{
 "metadata": {
  "name": "",
  "signature": "sha256:0484cbb0bbf9f24e1f4fbb77e585a6d0a7c09b350a3ecce89ffc5927dd3f0841"
 },
 "nbformat": 3,
 "nbformat_minor": 0,
 "worksheets": [
  {
   "cells": [
    {
     "cell_type": "code",
     "collapsed": false,
     "input": [
      "import random as rnd\n",
      "import numpy as np"
     ],
     "language": "python",
     "metadata": {},
     "outputs": [],
     "prompt_number": 2
    },
    {
     "cell_type": "code",
     "collapsed": false,
     "input": [
      "# We create three creatures, the Wowser, the Bowser, and the Bob.\n",
      "# Wowsers have alleles WW.\n",
      "# Bowsers have alleles BW.\n",
      "# Bobs have alleles BB.\n",
      "# Gollums survive well, but they shouldn't exist.\n",
      "\n",
      "Wowser = dict(fitness=0.5, W=2, B=0)\n",
      "Bowser = dict(fitness=0.5, W=1, B=1)\n",
      "Bob = dict(fitness=0.5, W=0, B=2)\n",
      "Gollum = dict(fitness=1, W=0, B=0) # A mystery creature to catch errors.\n",
      "\n",
      "# For a dominant B, give Bob&Bowser fitnesses 0.6, Wowser fitness 0.4\n",
      "# For a neutral B, give fitnesses 0.5 throughout.\n",
      "# For a recessive B, give Wowser&Bowser fitness 0.4, and Bob fitness 0.6"
     ],
     "language": "python",
     "metadata": {},
     "outputs": [],
     "prompt_number": 16
    },
    {
     "cell_type": "code",
     "collapsed": false,
     "input": [
      "Bowser\n",
      "# This lists the properties of Bowsers.  How many B alleles, how many W alleles, and the fitness."
     ],
     "language": "python",
     "metadata": {},
     "outputs": [
      {
       "metadata": {},
       "output_type": "pyout",
       "prompt_number": 17,
       "text": [
        "{'B': 1, 'W': 1, 'fitness': 0.5}"
       ]
      }
     ],
     "prompt_number": 17
    },
    {
     "cell_type": "code",
     "collapsed": false,
     "input": [
      "def make_animal(allele_a, allele_b):\n",
      "    # Given two alleles, this function\n",
      "    # creates a Bowser, a Wowser, or a Bob.\n",
      "    # In case of error, it creates an annoying Gollum.\n",
      "    if allele_a == 'W':\n",
      "        if allele_b == 'B':\n",
      "            return Bowser\n",
      "        if allele_b == 'W':\n",
      "            return Wowser\n",
      "    if allele_a == 'B':\n",
      "        if allele_b == 'B':\n",
      "            return Bob\n",
      "        if allele_b == 'W':\n",
      "            return Bowser\n",
      "    return Gollum"
     ],
     "language": "python",
     "metadata": {},
     "outputs": [],
     "prompt_number": 6
    },
    {
     "cell_type": "code",
     "collapsed": false,
     "input": [
      "make_animal('B','W')\n",
      "# This should output a Bowser."
     ],
     "language": "python",
     "metadata": {},
     "outputs": [
      {
       "metadata": {},
       "output_type": "pyout",
       "prompt_number": 32,
       "text": [
        "{'B': 1, 'W': 1, 'fitness': 0.5}"
       ]
      }
     ],
     "prompt_number": 32
    },
    {
     "cell_type": "code",
     "collapsed": false,
     "input": [
      "def winner(animal_x, animal_y):\n",
      "    # This creates a battle between animal_x and animal_y.\n",
      "    # Which one survives depends on chance and fitness.\n",
      "    r = rnd.random()\n",
      "    if r < animal_x['fitness'] / (animal_x['fitness'] + animal_y['fitness']):\n",
      "        return animal_x\n",
      "    else:\n",
      "        return animal_y"
     ],
     "language": "python",
     "metadata": {},
     "outputs": [],
     "prompt_number": 19
    },
    {
     "cell_type": "code",
     "collapsed": false,
     "input": [
      "def allele_freq(animals):\n",
      "    B_allele_list = [animal['B'] for animal in animals] # \n",
      "    W_allele_list = [animal['W'] for animal in animals] # \n",
      "    return dict(B=sum(B_allele_list), W=sum(W_allele_list))\n",
      "\n",
      "# This creates a frequency list for alleles in a list of animals.\n",
      "allele_freq([Bowser, Wowser, Bob,Bob, Bob])"
     ],
     "language": "python",
     "metadata": {},
     "outputs": [
      {
       "metadata": {},
       "output_type": "pyout",
       "prompt_number": 27,
       "text": [
        "{'B': 7, 'W': 3}"
       ]
      }
     ],
     "prompt_number": 27
    },
    {
     "cell_type": "code",
     "collapsed": false,
     "input": [
      "    "
     ],
     "language": "python",
     "metadata": {},
     "outputs": []
    },
    {
     "cell_type": "code",
     "collapsed": false,
     "input": [
      "def inheritance(animals):\n",
      "    live_animals = animals\n",
      "    N = len(live_animals) #the number of animals is N.\n",
      "    t = 0\n",
      "    tmax = 1000 # Don't go on for more than tmax generations!\n",
      "    flag = True\n",
      "    while flag and (t < tmax):\n",
      "        a_freq = allele_freq(live_animals)\n",
      "        # This gets the frequency of alleles among the living animals.\n",
      "        print 'After',t,'generations,',a_freq['B'], 'B alleles are present, and ',a_freq['W'], 'W alleles are present.'\n",
      "        if a_freq['B'] == 0:\n",
      "            flag = False\n",
      "            print 'No more B alleles are present after ',t,' generations.'\n",
      "        if a_freq['W'] == 0:\n",
      "            flag = False\n",
      "            print 'No more W alleles are present after ',t,' generations.'\n",
      "        allele_list = ['B']*a_freq['B'] + ['W']*a_freq['W']\n",
      "        # This makes a list of 2N alleles from N animals.\n",
      "        child_alleles = np.random.permutation(allele_list * 2)\n",
      "        # The alleles are duplicated, then shuffled randomly into 4N alleles.\n",
      "        # These 4N alleles make 2N children, among whom N survive below.\n",
      "        child_animals = []\n",
      "        for i in range(N):\n",
      "            child_x = make_animal(child_alleles[2*i], child_alleles[2*i+1])\n",
      "            child_y = make_animal(child_alleles[2*i+2], child_alleles[2*i+3])\n",
      "            child_survivor = winner(child_x,child_y)\n",
      "            child_animals += [child_survivor]\n",
      "        live_animals = child_animals\n",
      "        t += 1"
     ],
     "language": "python",
     "metadata": {},
     "outputs": [],
     "prompt_number": 21
    },
    {
     "cell_type": "code",
     "collapsed": false,
     "input": [
      "my_animals = [Bob]*10 + [Wowser] * 10 + [Bowser] * 10\n",
      "# I will start with 10 of each animal.\n",
      "inheritance(my_animals)"
     ],
     "language": "python",
     "metadata": {},
     "outputs": [
      {
       "output_type": "stream",
       "stream": "stdout",
       "text": [
        "After 0 generations, 30 B alleles are present, and  30 W alleles are present.\n",
        "After 1 generations, 32 B alleles are present, and  28 W alleles are present.\n",
        "After 2 generations, 30 B alleles are present, and  30 W alleles are present.\n",
        "After 3 generations, 28 B alleles are present, and  32 W alleles are present.\n",
        "After 4 generations, 34 B alleles are present, and  26 W alleles are present.\n",
        "After 5 generations, 33 B alleles are present, and  27 W alleles are present.\n",
        "After 6 generations, 30 B alleles are present, and  30 W alleles are present.\n",
        "After 7 generations, 28 B alleles are present, and  32 W alleles are present.\n",
        "After 8 generations, 29 B alleles are present, and  31 W alleles are present.\n",
        "After 9 generations, 28 B alleles are present, and  32 W alleles are present.\n",
        "After 10 generations, 33 B alleles are present, and  27 W alleles are present.\n",
        "After 11 generations, 30 B alleles are present, and  30 W alleles are present.\n",
        "After 12 generations, 31 B alleles are present, and  29 W alleles are present.\n",
        "After 13 generations, 28 B alleles are present, and  32 W alleles are present.\n",
        "After 14 generations, 29 B alleles are present, and  31 W alleles are present.\n",
        "After 15 generations, 31 B alleles are present, and  29 W alleles are present.\n",
        "After 16 generations, 31 B alleles are present, and  29 W alleles are present.\n",
        "After 17 generations, 32 B alleles are present, and  28 W alleles are present.\n",
        "After 18 generations, 33 B alleles are present, and  27 W alleles are present.\n",
        "After 19 generations, 28 B alleles are present, and  32 W alleles are present.\n",
        "After 20 generations, 34 B alleles are present, and  26 W alleles are present.\n",
        "After 21 generations, 34 B alleles are present, and  26 W alleles are present.\n",
        "After 22 generations, 31 B alleles are present, and  29 W alleles are present.\n",
        "After 23 generations, 31 B alleles are present, and  29 W alleles are present.\n",
        "After 24 generations, 26 B alleles are present, and  34 W alleles are present.\n",
        "After 25 generations, 31 B alleles are present, and  29 W alleles are present.\n",
        "After 26 generations, 30 B alleles are present, and  30 W alleles are present.\n",
        "After 27 generations, 36 B alleles are present, and  24 W alleles are present.\n",
        "After 28 generations, 35 B alleles are present, and  25 W alleles are present.\n",
        "After 29 generations, 34 B alleles are present, and  26 W alleles are present.\n",
        "After 30 generations, 39 B alleles are present, and  21 W alleles are present.\n",
        "After 31 generations, 39 B alleles are present, and  21 W alleles are present.\n",
        "After 32 generations, 40 B alleles are present, and  20 W alleles are present.\n",
        "After 33 generations, 41 B alleles are present, and  19 W alleles are present.\n",
        "After 34 generations, 38 B alleles are present, and  22 W alleles are present.\n",
        "After 35 generations, 33 B alleles are present, and  27 W alleles are present.\n",
        "After 36 generations, 34 B alleles are present, and  26 W alleles are present.\n",
        "After 37 generations, 37 B alleles are present, and  23 W alleles are present.\n",
        "After 38 generations, 38 B alleles are present, and  22 W alleles are present.\n",
        "After 39 generations, 35 B alleles are present, and  25 W alleles are present.\n",
        "After 40 generations, 33 B alleles are present, and  27 W alleles are present.\n",
        "After 41 generations, 33 B alleles are present, and  27 W alleles are present.\n",
        "After 42 generations, 34 B alleles are present, and  26 W alleles are present.\n",
        "After 43 generations, 36 B alleles are present, and  24 W alleles are present.\n",
        "After 44 generations, 30 B alleles are present, and  30 W alleles are present.\n",
        "After 45 generations, 31 B alleles are present, and  29 W alleles are present.\n",
        "After 46 generations, 38 B alleles are present, and  22 W alleles are present.\n",
        "After 47 generations, 38 B alleles are present, and  22 W alleles are present.\n",
        "After 48 generations, 36 B alleles are present, and  24 W alleles are present.\n",
        "After 49 generations, 42 B alleles are present, and  18 W alleles are present.\n",
        "After 50 generations, 38 B alleles are present, and  22 W alleles are present.\n",
        "After 51 generations, 40 B alleles are present, and  20 W alleles are present.\n",
        "After 52 generations, 44 B alleles are present, and  16 W alleles are present.\n",
        "After 53 generations, 37 B alleles are present, and  23 W alleles are present.\n",
        "After 54 generations, 35 B alleles are present, and  25 W alleles are present.\n",
        "After 55 generations, 26 B alleles are present, and  34 W alleles are present.\n",
        "After 56 generations, 23 B alleles are present, and  37 W alleles are present.\n",
        "After 57 generations, 31 B alleles are present, and  29 W alleles are present.\n",
        "After 58 generations, 33 B alleles are present, and  27 W alleles are present.\n",
        "After 59 generations, 40 B alleles are present, and  20 W alleles are present.\n",
        "After 60 generations, 44 B alleles are present, and  16 W alleles are present.\n",
        "After 61 generations, 41 B alleles are present, and  19 W alleles are present.\n",
        "After 62 generations, 39 B alleles are present, and  21 W alleles are present.\n",
        "After 63 generations, 39 B alleles are present, and  21 W alleles are present.\n",
        "After 64 generations, 37 B alleles are present, and  23 W alleles are present.\n",
        "After 65 generations, 40 B alleles are present, and  20 W alleles are present.\n",
        "After 66 generations, 34 B alleles are present, and  26 W alleles are present.\n",
        "After 67 generations, 31 B alleles are present, and  29 W alleles are present.\n",
        "After 68 generations, 33 B alleles are present, and  27 W alleles are present.\n",
        "After 69 generations, 31 B alleles are present, and  29 W alleles are present.\n",
        "After 70 generations, 29 B alleles are present, and  31 W alleles are present.\n",
        "After 71 generations, 32 B alleles are present, and  28 W alleles are present.\n",
        "After 72 generations, 31 B alleles are present, and  29 W alleles are present.\n",
        "After 73 generations, 32 B alleles are present, and  28 W alleles are present.\n",
        "After 74 generations, 27 B alleles are present, and  33 W alleles are present.\n",
        "After 75 generations, 28 B alleles are present, and  32 W alleles are present.\n",
        "After 76 generations, 31 B alleles are present, and  29 W alleles are present.\n",
        "After 77 generations, 33 B alleles are present, and  27 W alleles are present.\n",
        "After 78 generations, 36 B alleles are present, and  24 W alleles are present.\n",
        "After 79 generations, 35 B alleles are present, and  25 W alleles are present.\n",
        "After 80 generations, 35 B alleles are present, and  25 W alleles are present.\n",
        "After 81 generations, 36 B alleles are present, and  24 W alleles are present.\n",
        "After 82 generations, 32 B alleles are present, and  28 W alleles are present.\n",
        "After 83 generations, 35 B alleles are present, and  25 W alleles are present.\n",
        "After 84 generations, 40 B alleles are present, and  20 W alleles are present.\n",
        "After 85 generations, 35 B alleles are present, and  25 W alleles are present.\n",
        "After 86 generations, 34 B alleles are present, and  26 W alleles are present.\n",
        "After 87 generations, 35 B alleles are present, and  25 W alleles are present.\n",
        "After 88 generations, 33 B alleles are present, and  27 W alleles are present.\n",
        "After 89 generations, 39 B alleles are present, and  21 W alleles are present.\n",
        "After 90 generations, 40 B alleles are present, and  20 W alleles are present.\n",
        "After 91 generations, 41 B alleles are present, and  19 W alleles are present.\n",
        "After 92 generations, 36 B alleles are present, and  24 W alleles are present.\n",
        "After 93 generations, 44 B alleles are present, and  16 W alleles are present.\n",
        "After 94 generations, 46 B alleles are present, and  14 W alleles are present.\n",
        "After 95 generations, 45 B alleles are present, and  15 W alleles are present.\n",
        "After 96 generations, 39 B alleles are present, and  21 W alleles are present.\n",
        "After 97 generations, 38 B alleles are present, and  22 W alleles are present.\n",
        "After 98 generations, 39 B alleles are present, and  21 W alleles are present.\n",
        "After 99 generations, 35 B alleles are present, and  25 W alleles are present.\n",
        "After 100 generations, 36 B alleles are present, and  24 W alleles are present.\n",
        "After 101 generations, 36 B alleles are present, and  24 W alleles are present.\n",
        "After 102 generations, 42 B alleles are present, and  18 W alleles are present.\n",
        "After 103 generations, 42 B alleles are present, and  18 W alleles are present.\n",
        "After 104 generations, 47 B alleles are present, and  13 W alleles are present.\n",
        "After 105 generations, 47 B alleles are present, and  13 W alleles are present.\n",
        "After 106 generations, 49 B alleles are present, and  11 W alleles are present.\n",
        "After 107 generations, 46 B alleles are present, and  14 W alleles are present.\n",
        "After 108 generations, 51 B alleles are present, and  9 W alleles are present.\n",
        "After 109 generations, 53 B alleles are present, and  7 W alleles are present.\n",
        "After 110 generations, 50 B alleles are present, and  10 W alleles are present.\n",
        "After 111 generations, 51 B alleles are present, and  9 W alleles are present.\n",
        "After 112 generations, 58 B alleles are present, and  2 W alleles are present.\n",
        "After 113 generations, 59 B alleles are present, and  1 W alleles are present.\n",
        "After 114 generations, 60 B alleles are present, and  0 W alleles are present.\n",
        "No more W alleles are present after  114  generations.\n"
       ]
      }
     ],
     "prompt_number": 30
    },
    {
     "cell_type": "code",
     "collapsed": false,
     "input": [],
     "language": "python",
     "metadata": {},
     "outputs": []
    }
   ],
   "metadata": {}
  }
 ]
}